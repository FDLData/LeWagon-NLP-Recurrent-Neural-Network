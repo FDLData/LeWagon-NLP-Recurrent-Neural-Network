{
 "cells": [
  {
   "cell_type": "markdown",
   "metadata": {},
   "source": [
    "# Letter generation\n",
    "\n",
    "### Exercise objective\n",
    "- Get autonomous with Natural Language Processing\n",
    "- Generate Letters\n",
    "\n",
    "<hr>\n",
    "<hr>\n",
    "\n",
    "In this exercise, we will try to generate some text. The underlying idea is, given a input sequence predict what the next letter is going to be. To do that, we will first create a dataset for this task, and then run a RNN to do the prediction."
   ]
  },
  {
   "cell_type": "markdown",
   "metadata": {},
   "source": [
    "# The data\n",
    "\n",
    "❓ Question ❓ First, let's load the data. Here, it is the IMDB reviews again, but we are only interested in the sentences, not the positiveness or negativeness of the review. \n",
    "\n",
    "⚠️ **Warning** ⚠️ The `load_data` function has a `percentage_of_sentences` argument. Depending on your computer, there are chances that too many sentences will make your compute slow down, or even freeze - your RAM can overflow. For that reason, **you should start with 10% of the sentences** and see if your computer handles it. Otherwise, rerun with a lower number. \n",
    "\n",
    "**At the end of the notebook, to improve the model, you would maybe need to increase the number of loaded sentences**"
   ]
  },
  {
   "cell_type": "code",
   "execution_count": 1,
   "metadata": {},
   "outputs": [],
   "source": [
    "from tensorflow.keras.datasets import imdb\n",
    "\n",
    "def load_data(percentage_of_sentences=None):\n",
    "    # Load the data\n",
    "    (sentences_train, y_train), (sentences_test, y_test) = imdb.load_data()\n",
    "    \n",
    "    # Take only a given percentage of the entire data\n",
    "    if percentage_of_sentences is not None:\n",
    "        assert(percentage_of_sentences> 0 and percentage_of_sentences<=100)\n",
    "        \n",
    "        len_train = int(percentage_of_sentences/100*len(sentences_train))\n",
    "        sentences_train = sentences_train[:len_train]\n",
    "        y_train = y_train[:len_train]\n",
    "        \n",
    "        len_test = int(percentage_of_sentences/100*len(sentences_test))\n",
    "        sentences_test = sentences_test[:len_test]\n",
    "        y_test = y_test[:len_test]\n",
    "            \n",
    "    # Load the {interger: word} representation\n",
    "    word_to_id = imdb.get_word_index()\n",
    "    word_to_id = {k:(v+3) for k,v in word_to_id.items()}\n",
    "    for i, w in enumerate(['<PAD>', '<START>', '<UNK>', '<UNUSED>']):\n",
    "        word_to_id[w] = i\n",
    "\n",
    "    id_to_word = {v:k for k, v in word_to_id.items()}\n",
    "\n",
    "    # Convert the list of integers to list of words (str)\n",
    "    X_train = [' '.join([id_to_word[_] for _ in sentence[1:]]) for sentence in sentences_train]\n",
    "    \n",
    "    return X_train\n",
    "\n",
    "\n",
    "### Just run this cell to load the data\n",
    "X_data = load_data(percentage_of_sentences=10)"
   ]
  },
  {
   "cell_type": "markdown",
   "metadata": {},
   "source": [
    "❓ **Question** ❓ Write a function that, given a string (list of letters), returns\n",
    "- a string (list of letters) that corresponds to part of the sentence - this string should be of size 300\n",
    "- the letter that follow the previous string\n",
    "\n",
    "❗ **Remark** ❗ There is no reason your first strings to start at the beginning of the input string.\n",
    "\n",
    "Example:\n",
    "- Input : 'This is a good movie\"\n",
    "- Output: ('a good m', 'o') [Except the first part should be of size 300 instead of 8]\n",
    "\n",
    "❗ **Remark** ❗ If the input is shorter than 300 letters, return None"
   ]
  },
  {
   "cell_type": "code",
   "execution_count": 2,
   "metadata": {
    "tags": [
     "challengify"
    ]
   },
   "outputs": [],
   "source": [
    "import numpy as np\n",
    "\n",
    "def split_string(str):\n",
    "    if len(str) > 300:\n",
    "        start_point = np.random.randint(300,len(str))\n",
    "        return (str[start_point-300:start_point], str[start_point])\n",
    "    else:\n",
    "        return None"
   ]
  },
  {
   "cell_type": "markdown",
   "metadata": {},
   "source": [
    "❓ **Question** ❓ Check that the function is working on some strings from the loaded data"
   ]
  },
  {
   "cell_type": "code",
   "execution_count": 3,
   "metadata": {
    "tags": [
     "challengify"
    ]
   },
   "outputs": [
    {
     "name": "stdout",
     "output_type": "stream",
     "text": [
      "(\" location scenery story direction everyone's really suited the part they played and you could just imagine being there robert redford's is an amazing actor and now the same being director norman's father came from the same scottish island as myself so i loved the fact there was a real connection wit\", 'h')\n",
      "('hair is big lots of boobs bounce men wear those cut tee shirts that show off their stomachs sickening that men actually wore them and the music is just synthesiser trash that plays over and over again in almost every scene there is trashy music boobs and paramedics taking away bodies and the gym sti', 'l')\n",
      "(\"son michalka was bad all the way through chris gallinger who played the love interest of amanda was playing a french guy but had an awful accent one good thing about this movie was the completely adorable michael trevino who played alyson's love interest just something to keep in mind if this movie \", 'h')\n"
     ]
    }
   ],
   "source": [
    "print(split_string(X_data[0]))\n",
    "print(split_string(X_data[1]))\n",
    "print(split_string(X_data[127]))"
   ]
  },
  {
   "cell_type": "markdown",
   "metadata": {},
   "source": [
    "❓ **Question** ❓ Write a function, that, based on the previous function and the loaded sentences, generate a dataset X and y:\n",
    "- each sample of X is a string\n",
    "- the corresponding y is the letter that comes just after in the input string\n",
    "\n",
    "❗ **Remark** ❗ This question is not much guided as it is similar to what you have done in the previous exercises."
   ]
  },
  {
   "cell_type": "code",
   "execution_count": 4,
   "metadata": {
    "tags": [
     "challengify"
    ]
   },
   "outputs": [],
   "source": [
    "def x_and_y_generator(X_input):\n",
    "    \n",
    "    X = []\n",
    "    y = []\n",
    "    \n",
    "    for X_sample in X_input:\n",
    "        if (result:= split_string(X_sample)) is not None:\n",
    "            X.append(result[0])\n",
    "            y.append(result[1])\n",
    "            \n",
    "    return X, y"
   ]
  },
  {
   "cell_type": "code",
   "execution_count": 5,
   "metadata": {},
   "outputs": [],
   "source": [
    "X, y = x_and_y_generator(X_data)"
   ]
  },
  {
   "cell_type": "markdown",
   "metadata": {},
   "source": [
    "❓ **Question** ❓ Split X and y in train and test data. Store it in `string_train`, `string_test`, `y_train` and `y_test`"
   ]
  },
  {
   "cell_type": "code",
   "execution_count": 28,
   "metadata": {
    "tags": [
     "challengify"
    ]
   },
   "outputs": [],
   "source": [
    "from sklearn.model_selection import train_test_split\n",
    "\n",
    "string_train, string_test, y_train, y_test = train_test_split(X, y, test_size=0.3, random_state=3)"
   ]
  },
  {
   "cell_type": "markdown",
   "metadata": {},
   "source": [
    "❓ **Question** ❓ Create a dictionary which stores a unique token for each letter: the key is the letter while the value is the corresponding token. You have to build you dictionary based on the letters that are in `string_train` and `y_train` only, as you are not supposed to know the test set (and the new letters that might appear, which is unlikely, but still possible).\n",
    "\n",
    "❗ **Remark** ❗ To account for the fact that there might be letters in the test set that are not in the train set, add a particular token for that, whose corresponding key can be `UNKNOWN`.\n",
    "\n",
    "❗ **Remark** ❗ By letter, we actually mean any character. As there happen to be numbers (`1`, `2`, ...) or `?`, `!`, `@`, ... in texts."
   ]
  },
  {
   "cell_type": "code",
   "execution_count": 43,
   "metadata": {
    "tags": [
     "challengify"
    ]
   },
   "outputs": [
    {
     "name": "stdout",
     "output_type": "stream",
     "text": [
      "['unknown', ' ', 'a', 'n', 'y', 't', 'h', 'i', 'g', 'o', 'd', 'w', 'e', 'r', 'l', 'm', 'k', 'b', 'u', 's', 'p', 'c', 'f', 'j', \"'\", 'v', '2', 'q', 'z', '1', '0', 'x', '9', '4', 'é', '3', '7', '8', '5', '6', '\\x95', '\\xa0', '\\x96', '\\x85', 'è', '\\x97', 'ü', '´', '–', 'ó']\n"
     ]
    }
   ],
   "source": [
    "#string_train_cleaned = [text.replace(\" \", \"\") for text in string_train]\n",
    "#y_train_cleaned = [text.replace(\" \", \"\") for text in y_train]\n",
    "\n",
    "unique_char = ['unknown']\n",
    "for text in string_train:\n",
    "    for c in text:\n",
    "        if not c in unique_char:\n",
    "            unique_char.append(c)\n",
    "\n",
    "for text in y_train:\n",
    "    for c in text:\n",
    "        if not c in unique_char:\n",
    "            unique_char.append(c)\n",
    "            \n",
    "print(unique_char)"
   ]
  },
  {
   "cell_type": "code",
   "execution_count": 44,
   "metadata": {},
   "outputs": [
    {
     "data": {
      "text/plain": [
       "{'unknown': 0,\n",
       " ' ': 1,\n",
       " 'a': 2,\n",
       " 'n': 3,\n",
       " 'y': 4,\n",
       " 't': 5,\n",
       " 'h': 6,\n",
       " 'i': 7,\n",
       " 'g': 8,\n",
       " 'o': 9,\n",
       " 'd': 10,\n",
       " 'w': 11,\n",
       " 'e': 12,\n",
       " 'r': 13,\n",
       " 'l': 14,\n",
       " 'm': 15,\n",
       " 'k': 16,\n",
       " 'b': 17,\n",
       " 'u': 18,\n",
       " 's': 19,\n",
       " 'p': 20,\n",
       " 'c': 21,\n",
       " 'f': 22,\n",
       " 'j': 23,\n",
       " \"'\": 24,\n",
       " 'v': 25,\n",
       " '2': 26,\n",
       " 'q': 27,\n",
       " 'z': 28,\n",
       " '1': 29,\n",
       " '0': 30,\n",
       " 'x': 31,\n",
       " '9': 32,\n",
       " '4': 33,\n",
       " 'é': 34,\n",
       " '3': 35,\n",
       " '7': 36,\n",
       " '8': 37,\n",
       " '5': 38,\n",
       " '6': 39,\n",
       " '\\x95': 40,\n",
       " '\\xa0': 41,\n",
       " '\\x96': 42,\n",
       " '\\x85': 43,\n",
       " 'è': 44,\n",
       " '\\x97': 45,\n",
       " 'ü': 46,\n",
       " '´': 47,\n",
       " '–': 48,\n",
       " 'ó': 49}"
      ]
     },
     "execution_count": 44,
     "metadata": {},
     "output_type": "execute_result"
    }
   ],
   "source": [
    "keys = unique_char\n",
    "values = list(range(0,len(keys)+1))\n",
    "\n",
    "token_dict = {}\n",
    "\n",
    "for (k, v) in zip(keys, values):\n",
    "    token_dict[k] = v\n",
    "\n",
    "token_dict"
   ]
  },
  {
   "cell_type": "markdown",
   "metadata": {},
   "source": [
    "❓ **Question** ❓ Based on the previous dictionary, tokenize the strings and store them in `X_train` and `X_tests`.\n",
    "\n",
    "❗ **Remark** ❗ Convert your lists to NumPy arrays"
   ]
  },
  {
   "cell_type": "code",
   "execution_count": 53,
   "metadata": {},
   "outputs": [],
   "source": [
    "X_train = [[token_dict[_] for _ in x] for x in string_train]\n",
    "X_test = [[token_dict[_] if _ in token_dict else token_dict['unknown'] for _ in x ] for x in string_test]\n",
    "\n",
    "X_train = np.array(X_train)\n",
    "X_test = np.array(X_test)"
   ]
  },
  {
   "cell_type": "markdown",
   "metadata": {},
   "source": [
    "❓ **Question** ❓ The outputs are currently letters. We first need to tokenize them, thanks to the previous dictionary.\n",
    "\n",
    "❗ **Remark** ❗ Remember that some values in `y_test` are maybe unknown."
   ]
  },
  {
   "cell_type": "code",
   "execution_count": 47,
   "metadata": {},
   "outputs": [],
   "source": [
    "y_train_token = [token_dict[x] for x in y_train]\n",
    "y_test_token = [token_dict[x] if x in token_dict else token_dict['unknown'] for x in y_test]"
   ]
  },
  {
   "cell_type": "markdown",
   "metadata": {},
   "source": [
    "❓ **Question** ❓ Now, let's convert the tokenized outputs to one-hot encoded categories! There should be as many categories as different letters in the previous dictionary! So be careful that your outputs are of the right shape, especially as many one-hot encoded categories in both."
   ]
  },
  {
   "cell_type": "code",
   "execution_count": 48,
   "metadata": {
    "tags": [
     "challengify"
    ]
   },
   "outputs": [],
   "source": [
    "from tensorflow.keras.utils import to_categorical\n",
    "\n",
    "y_train_cat = to_categorical(y_train_token, num_classes=len(token_dict))\n",
    "y_test_cat = to_categorical(y_test_token, num_classes=len(token_dict))"
   ]
  },
  {
   "cell_type": "markdown",
   "metadata": {},
   "source": [
    "# Baseline model\n",
    "\n",
    "❓ **Question** ❓ What is the baseline accuracy?"
   ]
  },
  {
   "cell_type": "code",
   "execution_count": 49,
   "metadata": {},
   "outputs": [
    {
     "name": "stdout",
     "output_type": "stream",
     "text": [
      "Number of labels in train set {' ': 315, \"'\": 16, '0': 2, '1': 2, '2': 1, '4': 3, '7': 1, 'a': 109, 'b': 30, 'c': 30, 'd': 43, 'e': 173, 'f': 24, 'g': 30, 'h': 65, 'i': 91, 'j': 1, 'k': 11, 'l': 61, 'm': 39, 'n': 79, 'o': 121, 'p': 26, 'q': 1, 'r': 77, 's': 99, 't': 128, 'u': 30, 'v': 21, 'w': 25, 'x': 3, 'y': 27, 'z': 2}\n",
      "Baseline accuracy:  0.20193637621023514\n"
     ]
    }
   ],
   "source": [
    "from sklearn.metrics import accuracy_score\n",
    "\n",
    "unique, counts = np.unique(y_train, return_counts=True)\n",
    "counts = dict(zip(unique, counts))\n",
    "print('Number of labels in train set', counts)\n",
    "\n",
    "w = -1\n",
    "y_pred = ''\n",
    "for k, v in counts.items():\n",
    "    if v > w:\n",
    "        y_pred = k\n",
    "        w = v\n",
    "\n",
    "print('Baseline accuracy: ', accuracy_score(y_test, [y_pred]*len(y_test)))"
   ]
  },
  {
   "cell_type": "markdown",
   "metadata": {},
   "source": [
    "# The model\n",
    "\n",
    "❓ **Question** ❓ Write a RNN with all the appropriate layers, and compile it."
   ]
  },
  {
   "cell_type": "code",
   "execution_count": 51,
   "metadata": {
    "tags": [
     "challengify"
    ]
   },
   "outputs": [
    {
     "name": "stdout",
     "output_type": "stream",
     "text": [
      "Model: \"sequential\"\n",
      "_________________________________________________________________\n",
      " Layer (type)                Output Shape              Param #   \n",
      "=================================================================\n",
      " embedding (Embedding)       (None, None, 30)          1500      \n",
      "                                                                 \n",
      " gru (GRU)                   (None, 30)                5580      \n",
      "                                                                 \n",
      " dense (Dense)               (None, 30)                930       \n",
      "                                                                 \n",
      " dense_1 (Dense)             (None, 50)                1550      \n",
      "                                                                 \n",
      "=================================================================\n",
      "Total params: 9,560\n",
      "Trainable params: 9,560\n",
      "Non-trainable params: 0\n",
      "_________________________________________________________________\n"
     ]
    }
   ],
   "source": [
    "from tensorflow.keras import Sequential, layers\n",
    "\n",
    "def init_model(vocab_size):\n",
    "    model = Sequential()\n",
    "    model.add(layers.Embedding(input_dim=vocab_size, output_dim=30))\n",
    "    model.add(layers.GRU(30, activation='tanh'))\n",
    "    model.add(layers.Dense(30, activation='relu'))\n",
    "    model.add(layers.Dense(vocab_size, activation='softmax'))\n",
    "    \n",
    "    \n",
    "    model.compile(loss='categorical_crossentropy',\n",
    "                  optimizer='rmsprop',\n",
    "                  metrics=['accuracy'])\n",
    "    \n",
    "    return model\n",
    "\n",
    "model = init_model(len(token_dict))\n",
    "model.summary()"
   ]
  },
  {
   "cell_type": "markdown",
   "metadata": {},
   "source": [
    "❓ **Question** ❓ Fit the model - you can use a large batch size to accelerate the convergence. The model will probably hit the baseline performance at some point, and hopefully keep decreasing from here. \n",
    "\n",
    "You should get an accuracy better than 35% "
   ]
  },
  {
   "cell_type": "code",
   "execution_count": 52,
   "metadata": {
    "tags": [
     "challengify"
    ]
   },
   "outputs": [
    {
     "name": "stdout",
     "output_type": "stream",
     "text": [
      "Epoch 1/400\n"
     ]
    },
    {
     "name": "stderr",
     "output_type": "stream",
     "text": [
      "2022-11-20 15:04:53.135792: W tensorflow/core/platform/profile_utils/cpu_utils.cc:128] Failed to get CPU frequency: 0 Hz\n"
     ]
    },
    {
     "name": "stdout",
     "output_type": "stream",
     "text": [
      "24/24 [==============================] - 2s 59ms/step - loss: 3.7329 - accuracy: 0.1627 - val_loss: 3.1525 - val_accuracy: 0.1937\n",
      "Epoch 2/400\n",
      "24/24 [==============================] - 1s 50ms/step - loss: 3.0849 - accuracy: 0.1839 - val_loss: 2.9717 - val_accuracy: 0.1937\n",
      "Epoch 3/400\n",
      "24/24 [==============================] - 1s 50ms/step - loss: 2.9907 - accuracy: 0.1839 - val_loss: 2.9421 - val_accuracy: 0.1937\n",
      "Epoch 4/400\n",
      "24/24 [==============================] - 1s 50ms/step - loss: 2.9458 - accuracy: 0.1839 - val_loss: 2.8933 - val_accuracy: 0.1937\n",
      "Epoch 5/400\n",
      "24/24 [==============================] - 1s 50ms/step - loss: 2.9169 - accuracy: 0.1839 - val_loss: 2.8703 - val_accuracy: 0.1937\n",
      "Epoch 6/400\n",
      "24/24 [==============================] - 1s 50ms/step - loss: 2.8812 - accuracy: 0.1839 - val_loss: 2.8425 - val_accuracy: 0.1937\n",
      "Epoch 7/400\n",
      "24/24 [==============================] - 1s 50ms/step - loss: 2.8515 - accuracy: 0.1839 - val_loss: 2.8302 - val_accuracy: 0.2253\n",
      "Epoch 8/400\n",
      "24/24 [==============================] - 1s 50ms/step - loss: 2.8220 - accuracy: 0.1932 - val_loss: 2.7944 - val_accuracy: 0.1957\n",
      "Epoch 9/400\n",
      "24/24 [==============================] - 1s 50ms/step - loss: 2.7916 - accuracy: 0.2102 - val_loss: 2.7671 - val_accuracy: 0.2451\n",
      "Epoch 10/400\n",
      "24/24 [==============================] - 1s 50ms/step - loss: 2.7590 - accuracy: 0.2305 - val_loss: 2.7446 - val_accuracy: 0.2451\n",
      "Epoch 11/400\n",
      "24/24 [==============================] - 1s 50ms/step - loss: 2.7286 - accuracy: 0.2339 - val_loss: 2.7268 - val_accuracy: 0.2747\n",
      "Epoch 12/400\n",
      "24/24 [==============================] - 1s 50ms/step - loss: 2.7043 - accuracy: 0.2492 - val_loss: 2.6967 - val_accuracy: 0.2747\n",
      "Epoch 13/400\n",
      "24/24 [==============================] - 1s 51ms/step - loss: 2.6732 - accuracy: 0.2585 - val_loss: 2.6753 - val_accuracy: 0.2787\n",
      "Epoch 14/400\n",
      "24/24 [==============================] - 1s 50ms/step - loss: 2.6448 - accuracy: 0.2678 - val_loss: 2.6574 - val_accuracy: 0.2806\n",
      "Epoch 15/400\n",
      "24/24 [==============================] - 1s 50ms/step - loss: 2.6158 - accuracy: 0.2686 - val_loss: 2.6368 - val_accuracy: 0.2826\n",
      "Epoch 16/400\n",
      "24/24 [==============================] - 1s 51ms/step - loss: 2.5888 - accuracy: 0.2780 - val_loss: 2.6121 - val_accuracy: 0.2727\n",
      "Epoch 17/400\n",
      "24/24 [==============================] - 1s 50ms/step - loss: 2.5630 - accuracy: 0.2780 - val_loss: 2.5897 - val_accuracy: 0.2727\n",
      "Epoch 18/400\n",
      "24/24 [==============================] - 1s 50ms/step - loss: 2.5351 - accuracy: 0.2822 - val_loss: 2.5680 - val_accuracy: 0.2767\n",
      "Epoch 19/400\n",
      "24/24 [==============================] - 1s 50ms/step - loss: 2.5109 - accuracy: 0.2890 - val_loss: 2.5499 - val_accuracy: 0.2747\n",
      "Epoch 20/400\n",
      "24/24 [==============================] - 1s 50ms/step - loss: 2.4869 - accuracy: 0.2924 - val_loss: 2.5319 - val_accuracy: 0.2885\n",
      "Epoch 21/400\n",
      "24/24 [==============================] - 1s 50ms/step - loss: 2.4657 - accuracy: 0.2856 - val_loss: 2.5162 - val_accuracy: 0.2846\n",
      "Epoch 22/400\n",
      "24/24 [==============================] - 1s 50ms/step - loss: 2.4442 - accuracy: 0.2898 - val_loss: 2.5078 - val_accuracy: 0.2846\n",
      "Epoch 23/400\n",
      "24/24 [==============================] - 1s 50ms/step - loss: 2.4285 - accuracy: 0.2898 - val_loss: 2.4912 - val_accuracy: 0.2885\n",
      "Epoch 24/400\n",
      "24/24 [==============================] - 1s 50ms/step - loss: 2.4137 - accuracy: 0.2924 - val_loss: 2.4836 - val_accuracy: 0.2866\n",
      "Epoch 25/400\n",
      "24/24 [==============================] - 1s 50ms/step - loss: 2.3954 - accuracy: 0.2932 - val_loss: 2.4688 - val_accuracy: 0.2885\n",
      "Epoch 26/400\n",
      "24/24 [==============================] - 1s 51ms/step - loss: 2.3811 - accuracy: 0.2975 - val_loss: 2.4621 - val_accuracy: 0.2866\n",
      "Epoch 27/400\n",
      "24/24 [==============================] - 1s 50ms/step - loss: 2.3680 - accuracy: 0.3025 - val_loss: 2.4524 - val_accuracy: 0.2826\n",
      "Epoch 28/400\n",
      "24/24 [==============================] - 1s 50ms/step - loss: 2.3533 - accuracy: 0.3017 - val_loss: 2.4445 - val_accuracy: 0.2806\n",
      "Epoch 29/400\n",
      "24/24 [==============================] - 1s 51ms/step - loss: 2.3407 - accuracy: 0.3025 - val_loss: 2.4372 - val_accuracy: 0.2826\n",
      "Epoch 30/400\n",
      "24/24 [==============================] - 1s 50ms/step - loss: 2.3271 - accuracy: 0.3051 - val_loss: 2.4320 - val_accuracy: 0.2787\n",
      "Epoch 31/400\n",
      "24/24 [==============================] - 1s 50ms/step - loss: 2.3165 - accuracy: 0.3059 - val_loss: 2.4274 - val_accuracy: 0.2866\n",
      "Epoch 32/400\n",
      "24/24 [==============================] - 1s 50ms/step - loss: 2.3000 - accuracy: 0.3119 - val_loss: 2.4325 - val_accuracy: 0.2846\n",
      "Epoch 33/400\n",
      "24/24 [==============================] - 1s 50ms/step - loss: 2.2902 - accuracy: 0.3212 - val_loss: 2.4208 - val_accuracy: 0.2885\n",
      "Epoch 34/400\n",
      "24/24 [==============================] - 1s 50ms/step - loss: 2.2779 - accuracy: 0.3203 - val_loss: 2.4129 - val_accuracy: 0.2964\n",
      "Epoch 35/400\n",
      "24/24 [==============================] - 1s 50ms/step - loss: 2.2676 - accuracy: 0.3161 - val_loss: 2.4079 - val_accuracy: 0.2945\n",
      "Epoch 36/400\n",
      "24/24 [==============================] - 1s 50ms/step - loss: 2.2547 - accuracy: 0.3144 - val_loss: 2.4088 - val_accuracy: 0.2984\n",
      "Epoch 37/400\n",
      "24/24 [==============================] - 1s 50ms/step - loss: 2.2410 - accuracy: 0.3212 - val_loss: 2.4096 - val_accuracy: 0.2885\n",
      "Epoch 38/400\n",
      "24/24 [==============================] - 1s 50ms/step - loss: 2.2329 - accuracy: 0.3203 - val_loss: 2.4029 - val_accuracy: 0.2866\n",
      "Epoch 39/400\n",
      "24/24 [==============================] - 1s 51ms/step - loss: 2.2197 - accuracy: 0.3212 - val_loss: 2.3991 - val_accuracy: 0.2945\n",
      "Epoch 40/400\n",
      "24/24 [==============================] - 1s 50ms/step - loss: 2.2104 - accuracy: 0.3212 - val_loss: 2.4037 - val_accuracy: 0.2826\n",
      "Epoch 41/400\n",
      "24/24 [==============================] - 1s 50ms/step - loss: 2.2015 - accuracy: 0.3178 - val_loss: 2.4021 - val_accuracy: 0.2787\n",
      "Epoch 42/400\n",
      "24/24 [==============================] - 1s 50ms/step - loss: 2.1904 - accuracy: 0.3195 - val_loss: 2.3979 - val_accuracy: 0.2905\n",
      "Epoch 43/400\n",
      "24/24 [==============================] - 1s 50ms/step - loss: 2.1806 - accuracy: 0.3220 - val_loss: 2.4028 - val_accuracy: 0.2787\n",
      "Epoch 44/400\n",
      "24/24 [==============================] - 1s 50ms/step - loss: 2.1710 - accuracy: 0.3263 - val_loss: 2.3887 - val_accuracy: 0.2806\n",
      "Epoch 45/400\n",
      "24/24 [==============================] - 1s 50ms/step - loss: 2.1590 - accuracy: 0.3297 - val_loss: 2.4002 - val_accuracy: 0.2866\n",
      "Epoch 46/400\n",
      "24/24 [==============================] - 1s 50ms/step - loss: 2.1493 - accuracy: 0.3297 - val_loss: 2.3961 - val_accuracy: 0.2806\n",
      "Epoch 47/400\n",
      "24/24 [==============================] - 1s 50ms/step - loss: 2.1419 - accuracy: 0.3364 - val_loss: 2.3957 - val_accuracy: 0.2945\n",
      "Epoch 48/400\n",
      "24/24 [==============================] - 1s 51ms/step - loss: 2.1312 - accuracy: 0.3407 - val_loss: 2.3950 - val_accuracy: 0.2905\n",
      "Epoch 49/400\n",
      "24/24 [==============================] - 1s 50ms/step - loss: 2.1241 - accuracy: 0.3398 - val_loss: 2.3945 - val_accuracy: 0.2846\n"
     ]
    },
    {
     "data": {
      "text/plain": [
       "<keras.callbacks.History at 0x293871270>"
      ]
     },
     "execution_count": 52,
     "metadata": {},
     "output_type": "execute_result"
    }
   ],
   "source": [
    "from tensorflow.keras.callbacks import EarlyStopping\n",
    "\n",
    "model.fit(X_train, y_train_cat,\n",
    "          epochs=400, \n",
    "          batch_size=50,\n",
    "          callbacks=EarlyStopping(patience=5, monitor='val_loss'),\n",
    "          validation_split=0.3)"
   ]
  },
  {
   "cell_type": "markdown",
   "metadata": {},
   "source": [
    "❓ **Question** ❓ Evaluate your model on the test set"
   ]
  },
  {
   "cell_type": "code",
   "execution_count": 54,
   "metadata": {
    "tags": [
     "challengify"
    ]
   },
   "outputs": [
    {
     "name": "stdout",
     "output_type": "stream",
     "text": [
      "23/23 [==============================] - 0s 7ms/step - loss: 2.5558 - accuracy: 0.2822\n"
     ]
    },
    {
     "data": {
      "text/plain": [
       "[2.555826425552368, 0.28215768933296204]"
      ]
     },
     "execution_count": 54,
     "metadata": {},
     "output_type": "execute_result"
    }
   ],
   "source": [
    "model.evaluate(X_test, y_test_cat)"
   ]
  },
  {
   "cell_type": "markdown",
   "metadata": {},
   "source": [
    "❓ **Question** ❓ Even though the model is not perfect, you can look at its prediction with a string of your choice. Don't forget to decode the predicted token to know which letter it corresponds to.\n",
    "\n",
    "You will have to convert your input string to a list of tokens, get the most probable output class, and then convert it back to a letter.\n",
    "\n",
    "You should do it in a function."
   ]
  },
  {
   "cell_type": "code",
   "execution_count": 55,
   "metadata": {
    "tags": [
     "challengify"
    ]
   },
   "outputs": [
    {
     "name": "stdout",
     "output_type": "stream",
     "text": [
      "1/1 [==============================] - 0s 181ms/step\n"
     ]
    },
    {
     "data": {
      "text/plain": [
       "' '"
      ]
     },
     "execution_count": 55,
     "metadata": {},
     "output_type": "execute_result"
    }
   ],
   "source": [
    "token_to_letter = {v: k for k, v in token_dict.items()}\n",
    "\n",
    "def get_predicted_letter(string):\n",
    "    string_convert = [token_dict[_] for _ in string]\n",
    "\n",
    "    pred = model.predict([string_convert])\n",
    "    pred_class = np.argmax(pred[0])\n",
    "    pred_letter = token_to_letter[pred_class]\n",
    "    \n",
    "    return pred_letter\n",
    "\n",
    "string = 'this is a good'\n",
    "\n",
    "get_predicted_letter(string)"
   ]
  },
  {
   "cell_type": "markdown",
   "metadata": {},
   "source": [
    "❓ **Question** ❓ Now, write a function that takes a string as an input, predicts the next letter, appends the letter to the initial string, then redoes the prediction, etc etc.\n",
    "\n",
    "For instance : \n",
    "- 'this is a good' => ' '\n",
    "- 'this is a good ' => 'm'\n",
    "- 'this is a good m' => 'o'\n",
    "...\n",
    "\n",
    "The function should also take the number of times you repeat the operation as an input.\n",
    "\n",
    "You can have some fun trying different input sequences here."
   ]
  },
  {
   "cell_type": "code",
   "execution_count": 57,
   "metadata": {
    "tags": [
     "challengify"
    ]
   },
   "outputs": [
    {
     "name": "stdout",
     "output_type": "stream",
     "text": [
      "1/1 [==============================] - 0s 22ms/step\n",
      "1/1 [==============================] - 0s 13ms/step\n",
      "1/1 [==============================] - 0s 12ms/step\n",
      "1/1 [==============================] - 0s 13ms/step\n",
      "1/1 [==============================] - 0s 12ms/step\n",
      "1/1 [==============================] - 0s 13ms/step\n",
      "1/1 [==============================] - 0s 13ms/step\n",
      "1/1 [==============================] - 0s 12ms/step\n",
      "1/1 [==============================] - 0s 13ms/step\n",
      "1/1 [==============================] - 0s 12ms/step\n",
      "1/1 [==============================] - 0s 12ms/step\n",
      "1/1 [==============================] - 0s 13ms/step\n",
      "1/1 [==============================] - 0s 12ms/step\n",
      "1/1 [==============================] - 0s 12ms/step\n",
      "1/1 [==============================] - 0s 13ms/step\n",
      "1/1 [==============================] - 0s 13ms/step\n",
      "1/1 [==============================] - 0s 12ms/step\n",
      "1/1 [==============================] - 0s 12ms/step\n",
      "1/1 [==============================] - 0s 12ms/step\n",
      "1/1 [==============================] - 0s 13ms/step\n"
     ]
    },
    {
     "data": {
      "text/plain": [
       "['what i like is the the the the the ']"
      ]
     },
     "execution_count": 57,
     "metadata": {},
     "output_type": "execute_result"
    }
   ],
   "source": [
    "def repeat_prediction(string, repetition):\n",
    "    string_tmp = string\n",
    "    for i in range(repetition):\n",
    "        predicted_letter = get_predicted_letter(string_tmp)\n",
    "        string_tmp = string_tmp + predicted_letter\n",
    "\n",
    "    return string_tmp\n",
    "\n",
    "strings = ['what i like is ',\n",
    "          ]\n",
    "\n",
    "[repeat_prediction(string, 20) for string in strings]"
   ]
  },
  {
   "cell_type": "markdown",
   "metadata": {},
   "source": [
    "❓ **Question** ❓ Try to optimize your architecture to improve your performance. You can also try to load more data in the first function."
   ]
  }
 ],
 "metadata": {
  "kernelspec": {
   "display_name": "Python 3",
   "language": "python",
   "name": "python3"
  },
  "language_info": {
   "codemirror_mode": {
    "name": "ipython",
    "version": 3
   },
   "file_extension": ".py",
   "mimetype": "text/x-python",
   "name": "python",
   "nbconvert_exporter": "python",
   "pygments_lexer": "ipython3",
   "version": "3.10.6"
  },
  "toc": {
   "base_numbering": 1,
   "nav_menu": {},
   "number_sections": true,
   "sideBar": true,
   "skip_h1_title": false,
   "title_cell": "Table of Contents",
   "title_sidebar": "Contents",
   "toc_cell": false,
   "toc_position": {},
   "toc_section_display": true,
   "toc_window_display": false
  },
  "vscode": {
   "interpreter": {
    "hash": "2352172e6ea988fd88dfcc10b834c5bcaa2937548cc931608b5edc504ebc2cb6"
   }
  }
 },
 "nbformat": 4,
 "nbformat_minor": 4
}
